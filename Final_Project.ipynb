{
 "cells": [
  {
   "cell_type": "markdown",
   "id": "24c5b483-6a3c-4072-9690-3a1692cf90f7",
   "metadata": {
    "tags": []
   },
   "source": [
    "# Big Ideas Final Project\n",
    "Greg Guazzone, Jordan Shopp, and Salem Zenati"
   ]
  },
  {
   "cell_type": "markdown",
   "id": "99f3f451-4e78-404c-8f53-c97b714e9d8a",
   "metadata": {},
   "source": [
    "---"
   ]
  },
  {
   "cell_type": "markdown",
   "id": "12f224f9-9275-488a-870c-c075adf47d87",
   "metadata": {},
   "source": [
    "## Introduction: \n",
    "Finding the answer to \"Best Neighborhood in Pittsburgh\" is a tricky one, but when it comes down to it, we decided that it was most important to find a neighborhood that is geared towards Best neighborhood to raise a family.. Growing up in different parts of the country, we acknowledged how different the experience of growing up can be based off of where it is done. A lot of families move for their children, and we wanted to find which Pittsburgh neighborhood would be the *best* to raise a child.\n",
    "\n",
    "Looking at the datasets in the WPRDC, along with our personal experiences and what we have heard parents say in the past, we chose the following submetrics to analyze:\n",
    "* Lowest crime rate (https://data.wprdc.org/dataset/uniform-crime-reporting-data)\n",
    "* Education (https://data.wprdc.org/dataset/pittsburgh-public-school-locations)\n",
    "* Recreation (https://data.wprdc.org/dataset/playground-equipment)\n",
    "\n",
    "We think that these submetrics constitute the most important aspect parents look at when looking for a place to raise their children."
   ]
  },
  {
   "cell_type": "markdown",
   "id": "7401601e-1d2e-48da-918f-e05356a0c488",
   "metadata": {},
   "source": [
    "---\n"
   ]
  },
  {
   "cell_type": "markdown",
   "metadata": {},
   "source": [
    "## Our findings\n",
    "Below, we import our submetrics found from our analyses.\n",
    "### Schools:\n",
    "    The 10 best schools in Pittsburgh are located in the following neighborhoods:\n"
   ]
  },
  {
   "cell_type": "code",
   "execution_count": 5,
   "metadata": {},
   "outputs": [
    {
     "name": "stdout",
     "output_type": "stream",
     "text": [
      "    Unnamed: 0         Neighborhood  Overall_score\n",
      "0           49         Point Breeze       5.213990\n",
      "1           46   Point Breeze North       5.127372\n",
      "2           68  Squirrel Hill North       5.122682\n",
      "3            0       Homewood North       5.113430\n",
      "4           67        Regent Square       5.103980\n",
      "..         ...                  ...            ...\n",
      "73          71        East Carnegie       4.292746\n",
      "74          25           Glen Hazel       4.156016\n",
      "75          77     Spring Hill-City       4.066899\n",
      "76          37        Spring Garden       4.063655\n",
      "77          76                Bluff       4.037349\n",
      "\n",
      "[78 rows x 3 columns]\n"
     ]
    },
    {
     "data": {
      "text/html": [
       "<div>\n",
       "<style scoped>\n",
       "    .dataframe tbody tr th:only-of-type {\n",
       "        vertical-align: middle;\n",
       "    }\n",
       "\n",
       "    .dataframe tbody tr th {\n",
       "        vertical-align: top;\n",
       "    }\n",
       "\n",
       "    .dataframe thead th {\n",
       "        text-align: right;\n",
       "    }\n",
       "</style>\n",
       "<table border=\"1\" class=\"dataframe\">\n",
       "  <thead>\n",
       "    <tr style=\"text-align: right;\">\n",
       "      <th></th>\n",
       "      <th>Neighborhood</th>\n",
       "      <th>Points</th>\n",
       "    </tr>\n",
       "  </thead>\n",
       "  <tbody>\n",
       "    <tr>\n",
       "      <th>0</th>\n",
       "      <td>Point Breeze</td>\n",
       "      <td>100</td>\n",
       "    </tr>\n",
       "    <tr>\n",
       "      <th>1</th>\n",
       "      <td>Point Breeze North</td>\n",
       "      <td>99</td>\n",
       "    </tr>\n",
       "    <tr>\n",
       "      <th>2</th>\n",
       "      <td>Squirrel Hill North</td>\n",
       "      <td>98</td>\n",
       "    </tr>\n",
       "    <tr>\n",
       "      <th>3</th>\n",
       "      <td>Homewood North</td>\n",
       "      <td>97</td>\n",
       "    </tr>\n",
       "    <tr>\n",
       "      <th>4</th>\n",
       "      <td>Regent Square</td>\n",
       "      <td>96</td>\n",
       "    </tr>\n",
       "    <tr>\n",
       "      <th>5</th>\n",
       "      <td>Squirrel Hill South</td>\n",
       "      <td>95</td>\n",
       "    </tr>\n",
       "    <tr>\n",
       "      <th>6</th>\n",
       "      <td>Homewood South</td>\n",
       "      <td>94</td>\n",
       "    </tr>\n",
       "    <tr>\n",
       "      <th>7</th>\n",
       "      <td>Highland Park</td>\n",
       "      <td>93</td>\n",
       "    </tr>\n",
       "    <tr>\n",
       "      <th>8</th>\n",
       "      <td>Shadyside</td>\n",
       "      <td>92</td>\n",
       "    </tr>\n",
       "    <tr>\n",
       "      <th>9</th>\n",
       "      <td>East Hills</td>\n",
       "      <td>91</td>\n",
       "    </tr>\n",
       "  </tbody>\n",
       "</table>\n",
       "</div>"
      ],
      "text/plain": [
       "          Neighborhood  Points\n",
       "0         Point Breeze     100\n",
       "1   Point Breeze North      99\n",
       "2  Squirrel Hill North      98\n",
       "3       Homewood North      97\n",
       "4        Regent Square      96\n",
       "5  Squirrel Hill South      95\n",
       "6       Homewood South      94\n",
       "7        Highland Park      93\n",
       "8            Shadyside      92\n",
       "9           East Hills      91"
      ]
     },
     "metadata": {},
     "output_type": "display_data"
    }
   ],
   "source": [
    "import pandas as pd\n",
    "schools_df = pd.read_csv('export_schools.csv')\n",
    "print(schools_df)\n",
    "schools_df.index = pd.to_numeric(schools_df.index, errors='coerce')\n",
    "schools_df['Points'] = 100 - schools_df.index\n",
    "schools_df = schools_df[['Neighborhood', 'Points']]\n",
    "display(schools_df.head(10))"
   ]
  },
  {
   "cell_type": "markdown",
   "metadata": {},
   "source": [
    "### Parks:\n",
    "    The 10 best schools in Pittsburgh are located in the following neighborhoods:"
   ]
  },
  {
   "cell_type": "code",
   "execution_count": 8,
   "metadata": {},
   "outputs": [
    {
     "data": {
      "text/html": [
       "<div>\n",
       "<style scoped>\n",
       "    .dataframe tbody tr th:only-of-type {\n",
       "        vertical-align: middle;\n",
       "    }\n",
       "\n",
       "    .dataframe tbody tr th {\n",
       "        vertical-align: top;\n",
       "    }\n",
       "\n",
       "    .dataframe thead th {\n",
       "        text-align: right;\n",
       "    }\n",
       "</style>\n",
       "<table border=\"1\" class=\"dataframe\">\n",
       "  <thead>\n",
       "    <tr style=\"text-align: right;\">\n",
       "      <th></th>\n",
       "      <th>Neighborhood</th>\n",
       "      <th>Points</th>\n",
       "    </tr>\n",
       "  </thead>\n",
       "  <tbody>\n",
       "    <tr>\n",
       "      <th>0</th>\n",
       "      <td>Squirrel Hill South</td>\n",
       "      <td>100</td>\n",
       "    </tr>\n",
       "    <tr>\n",
       "      <th>1</th>\n",
       "      <td>East Liberty</td>\n",
       "      <td>99</td>\n",
       "    </tr>\n",
       "    <tr>\n",
       "      <th>2</th>\n",
       "      <td>Squirrel Hill North</td>\n",
       "      <td>98</td>\n",
       "    </tr>\n",
       "    <tr>\n",
       "      <th>3</th>\n",
       "      <td>Regent Square</td>\n",
       "      <td>97</td>\n",
       "    </tr>\n",
       "    <tr>\n",
       "      <th>4</th>\n",
       "      <td>Beechview</td>\n",
       "      <td>96</td>\n",
       "    </tr>\n",
       "    <tr>\n",
       "      <th>5</th>\n",
       "      <td>Fineview</td>\n",
       "      <td>95</td>\n",
       "    </tr>\n",
       "    <tr>\n",
       "      <th>6</th>\n",
       "      <td>Allegheny Center</td>\n",
       "      <td>94</td>\n",
       "    </tr>\n",
       "    <tr>\n",
       "      <th>7</th>\n",
       "      <td>South Side Slopes</td>\n",
       "      <td>93</td>\n",
       "    </tr>\n",
       "    <tr>\n",
       "      <th>8</th>\n",
       "      <td>Hazelwood</td>\n",
       "      <td>92</td>\n",
       "    </tr>\n",
       "    <tr>\n",
       "      <th>9</th>\n",
       "      <td>Sheraden</td>\n",
       "      <td>91</td>\n",
       "    </tr>\n",
       "  </tbody>\n",
       "</table>\n",
       "</div>"
      ],
      "text/plain": [
       "          Neighborhood  Points\n",
       "0  Squirrel Hill South     100\n",
       "1         East Liberty      99\n",
       "2  Squirrel Hill North      98\n",
       "3        Regent Square      97\n",
       "4            Beechview      96\n",
       "5             Fineview      95\n",
       "6     Allegheny Center      94\n",
       "7    South Side Slopes      93\n",
       "8            Hazelwood      92\n",
       "9             Sheraden      91"
      ]
     },
     "metadata": {},
     "output_type": "display_data"
    }
   ],
   "source": [
    "parks_df = pd.read_csv('export_parks.csv')\n",
    "parks_df.index = pd.to_numeric(parks_df.index, errors='coerce')\n",
    "parks_df['Points'] = 100 - parks_df.index\n",
    "parks_df = parks_df[['Neighborhood', 'Points']]\n",
    "display(parks_df.head(10))"
   ]
  },
  {
   "cell_type": "markdown",
   "metadata": {},
   "source": [
    "### Crime:\n",
    "    The 10 best schools in Pittsburgh are located in the following neighborhoods:"
   ]
  },
  {
   "cell_type": "code",
   "execution_count": 20,
   "metadata": {},
   "outputs": [
    {
     "data": {
      "text/html": [
       "<div>\n",
       "<style scoped>\n",
       "    .dataframe tbody tr th:only-of-type {\n",
       "        vertical-align: middle;\n",
       "    }\n",
       "\n",
       "    .dataframe tbody tr th {\n",
       "        vertical-align: top;\n",
       "    }\n",
       "\n",
       "    .dataframe thead th {\n",
       "        text-align: right;\n",
       "    }\n",
       "</style>\n",
       "<table border=\"1\" class=\"dataframe\">\n",
       "  <thead>\n",
       "    <tr style=\"text-align: right;\">\n",
       "      <th></th>\n",
       "      <th>Neighborhood</th>\n",
       "      <th>Points</th>\n",
       "    </tr>\n",
       "  </thead>\n",
       "  <tbody>\n",
       "    <tr>\n",
       "      <th>97</th>\n",
       "      <td>Mt. Oliver Boro</td>\n",
       "      <td>100</td>\n",
       "    </tr>\n",
       "    <tr>\n",
       "      <th>96</th>\n",
       "      <td>Mt. Oliver Neighborhood</td>\n",
       "      <td>99</td>\n",
       "    </tr>\n",
       "    <tr>\n",
       "      <th>95</th>\n",
       "      <td>Outside County</td>\n",
       "      <td>98</td>\n",
       "    </tr>\n",
       "    <tr>\n",
       "      <th>94</th>\n",
       "      <td>Troy Hill-Herrs Island</td>\n",
       "      <td>97</td>\n",
       "    </tr>\n",
       "    <tr>\n",
       "      <th>93</th>\n",
       "      <td>Ridgemont</td>\n",
       "      <td>96</td>\n",
       "    </tr>\n",
       "    <tr>\n",
       "      <th>92</th>\n",
       "      <td>Chartiers City</td>\n",
       "      <td>95</td>\n",
       "    </tr>\n",
       "    <tr>\n",
       "      <th>91</th>\n",
       "      <td>New Homestead</td>\n",
       "      <td>94</td>\n",
       "    </tr>\n",
       "    <tr>\n",
       "      <th>90</th>\n",
       "      <td>Outside State</td>\n",
       "      <td>93</td>\n",
       "    </tr>\n",
       "    <tr>\n",
       "      <th>89</th>\n",
       "      <td>East Carnegie</td>\n",
       "      <td>92</td>\n",
       "    </tr>\n",
       "    <tr>\n",
       "      <th>88</th>\n",
       "      <td>Swisshelm Park</td>\n",
       "      <td>91</td>\n",
       "    </tr>\n",
       "  </tbody>\n",
       "</table>\n",
       "</div>"
      ],
      "text/plain": [
       "               Neighborhood  Points\n",
       "97          Mt. Oliver Boro     100\n",
       "96  Mt. Oliver Neighborhood      99\n",
       "95           Outside County      98\n",
       "94   Troy Hill-Herrs Island      97\n",
       "93                Ridgemont      96\n",
       "92           Chartiers City      95\n",
       "91            New Homestead      94\n",
       "90            Outside State      93\n",
       "89            East Carnegie      92\n",
       "88           Swisshelm Park      91"
      ]
     },
     "metadata": {},
     "output_type": "display_data"
    }
   ],
   "source": [
    "crime_df = pd.read_csv('export_crime.csv')\n",
    "crime_df.index = pd.to_numeric(crime_df.index, errors='coerce')\n",
    "crime_df['Points'] =  crime_df.index + 3\n",
    "crime_df = crime_df.rename(columns={'INCIDENTNEIGHBORHOOD': 'Neighborhood'})\n",
    "crime_df = crime_df[['Neighborhood', 'Points']]\n",
    "crime_df = crime_df.sort_values(by=['Points'], ascending=False)\n",
    "display(crime_df.head(10))"
   ]
  },
  {
   "cell_type": "markdown",
   "metadata": {},
   "source": [
    "### Combined Metric\n",
    "To combine all of our submetrics, we chose to make a uniform point system based for each submetric. Looking at our original submetics and their differneces in magnitude, we had to do this ourselves. For each submetric, we awarded 100 points to the best neighborhood in that submetric, 99 to the second best, etc etc. We summed the points awarded, giving us the Total Points, our final metric."
   ]
  },
  {
   "cell_type": "code",
   "execution_count": 26,
   "metadata": {},
   "outputs": [],
   "source": [
    "combined_df = pd.merge(schools_df, parks_df, on='Neighborhood', how='outer')\n",
    "combined_df = pd.merge(combined_df, crime_df, on='Neighborhood', how='outer')\n",
    "\n",
    "combined_df = combined_df.fillna(0)\n",
    "\n",
    "combined_df['Total Points'] = combined_df['Points_x'] + combined_df['Points_y'] + combined_df['Points']\n",
    "\n",
    "combined_df = combined_df.sort_values(by=['Total Points'], ascending=False).reset_index(drop=True)\n",
    "combined_df = combined_df[['Neighborhood', 'Total Points']]\n"
   ]
  },
  {
   "cell_type": "markdown",
   "metadata": {},
   "source": [
    "## Results\n",
    "After combining our individual metrics into the final metric, we found that Regent Square is the best neighborhood to raise children. It scored well in all categories, allowing it to excel overall. This makes ssense with some knowledge of the neighborhood. According to Niche.com, it is the #1 neighborhood to live in Pittsburgh and the #17 best neighborhood in the US. It is a desireable neighborhood to live in with rising housing prices.\n",
    "\n",
    "<p align= \"center\" >\n",
    "<img src=\"https://i0.wp.com/nextpittsburgh.com/wp-content/uploads/2018/08/Untitled-design-27.png?w=800&ssl=1\" width=\"500\">\n",
    "</p>\n",
    "https://i0.wp.com/nextpittsburgh.com/wp-content/uploads/2018/08/Untitled-design-27.png?w=800&ssl=1\n",
    "\n",
    "\n",
    "Below is the child-raising index for all the neighborhoods."
   ]
  },
  {
   "cell_type": "code",
   "execution_count": 32,
   "metadata": {},
   "outputs": [
    {
     "data": {
      "text/html": [
       "<div>\n",
       "<style scoped>\n",
       "    .dataframe tbody tr th:only-of-type {\n",
       "        vertical-align: middle;\n",
       "    }\n",
       "\n",
       "    .dataframe tbody tr th {\n",
       "        vertical-align: top;\n",
       "    }\n",
       "\n",
       "    .dataframe thead th {\n",
       "        text-align: right;\n",
       "    }\n",
       "</style>\n",
       "<table border=\"1\" class=\"dataframe\">\n",
       "  <thead>\n",
       "    <tr style=\"text-align: right;\">\n",
       "      <th></th>\n",
       "      <th>Neighborhood</th>\n",
       "      <th>Total Points</th>\n",
       "    </tr>\n",
       "  </thead>\n",
       "  <tbody>\n",
       "    <tr>\n",
       "      <th>0</th>\n",
       "      <td>Regent Square</td>\n",
       "      <td>281.0</td>\n",
       "    </tr>\n",
       "    <tr>\n",
       "      <th>1</th>\n",
       "      <td>Swisshelm Park</td>\n",
       "      <td>234.0</td>\n",
       "    </tr>\n",
       "    <tr>\n",
       "      <th>2</th>\n",
       "      <td>Squirrel Hill North</td>\n",
       "      <td>230.0</td>\n",
       "    </tr>\n",
       "    <tr>\n",
       "      <th>3</th>\n",
       "      <td>New Homestead</td>\n",
       "      <td>228.0</td>\n",
       "    </tr>\n",
       "    <tr>\n",
       "      <th>4</th>\n",
       "      <td>Fairywood</td>\n",
       "      <td>223.0</td>\n",
       "    </tr>\n",
       "    <tr>\n",
       "      <th>5</th>\n",
       "      <td>Perry North</td>\n",
       "      <td>219.0</td>\n",
       "    </tr>\n",
       "    <tr>\n",
       "      <th>6</th>\n",
       "      <td>Allegheny Center</td>\n",
       "      <td>218.0</td>\n",
       "    </tr>\n",
       "    <tr>\n",
       "      <th>7</th>\n",
       "      <td>Beltzhoover</td>\n",
       "      <td>216.0</td>\n",
       "    </tr>\n",
       "    <tr>\n",
       "      <th>8</th>\n",
       "      <td>Hays</td>\n",
       "      <td>214.0</td>\n",
       "    </tr>\n",
       "    <tr>\n",
       "      <th>9</th>\n",
       "      <td>Garfield</td>\n",
       "      <td>209.0</td>\n",
       "    </tr>\n",
       "  </tbody>\n",
       "</table>\n",
       "</div>"
      ],
      "text/plain": [
       "          Neighborhood  Total Points\n",
       "0        Regent Square         281.0\n",
       "1       Swisshelm Park         234.0\n",
       "2  Squirrel Hill North         230.0\n",
       "3        New Homestead         228.0\n",
       "4            Fairywood         223.0\n",
       "5          Perry North         219.0\n",
       "6     Allegheny Center         218.0\n",
       "7          Beltzhoover         216.0\n",
       "8                 Hays         214.0\n",
       "9             Garfield         209.0"
      ]
     },
     "metadata": {},
     "output_type": "display_data"
    },
    {
     "data": {
      "text/plain": [
       "<AxesSubplot:>"
      ]
     },
     "execution_count": 32,
     "metadata": {},
     "output_type": "execute_result"
    },
    {
     "data": {
      "image/png": "[encoded data removed]",
      "text/plain": [
       "<Figure size 640x480 with 2 Axes>"
      ]
     },
     "metadata": {},
     "output_type": "display_data"
    }
   ],
   "source": [
    "# Display the DataFrame\n",
    "display(combined_df.head(10))\n",
    "\n",
    "import matplotlib.pyplot as plt\n",
    "import geopandas\n",
    "neighborhoods = geopandas.read_file(\"Neighborhoods_Geopandas_Dir/Neighborhoods_.shp\") # read in the shapefile\n",
    "\n",
    "# Merge the geodataframe with the neighborhood ratio dataframe (the one with equipment count, park count, and ratio)\n",
    "map_combined = neighborhoods.merge(combined_df, how='left', left_on='hood', right_on='Neighborhood')\n",
    "map_combined.plot(column='Total Points', legend=True, legend_kwds={\"label\": \"Best Neighborhood to Raise Children\", \"orientation\": \"horizontal\"})\n"
   ]
  },
  {
   "cell_type": "markdown",
   "metadata": {},
   "source": [
    "## Conclusions\n",
    "\n",
    "#### Jordan\n",
    "I personally always thought Squirrel Hill North would be the nices places to raise Children. I always thought the houses were very suburban-like, and remember myh coworkers telling me it was a very good place for families, if you could afford it. Not knowing much about Regent Square before, I was suprised it won, but after doing further research, it makes sense. It is not too crowded, has many amenities, and is importantly safe. After looking up the best neighborhoods for families online, I see it at the top of most lists."
   ]
  },
  {
   "cell_type": "markdown",
   "metadata": {},
   "source": []
  }
 ],
 "metadata": {
  "kernelspec": {
   "display_name": "Python 3 (ipykernel)",
   "language": "python",
   "name": "python3"
  },
  "language_info": {
   "codemirror_mode": {
    "name": "ipython",
    "version": 3
   },
   "file_extension": ".py",
   "mimetype": "text/x-python",
   "name": "python",
   "nbconvert_exporter": "python",
   "pygments_lexer": "ipython3",
   "version": "3.9.13"
  }
 },
 "nbformat": 4,
 "nbformat_minor": 5
}
